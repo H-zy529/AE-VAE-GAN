{
 "cells": [
  {
   "cell_type": "code",
   "execution_count": 14,
   "metadata": {},
   "outputs": [
    {
     "name": "stdout",
     "output_type": "stream",
     "text": [
      "env: LS_COLORS=None\n",
      "/home/yu/Templates/AE-VAE-GAN/DataLoder/data/dogcat/\r\n",
      "|-- cat.12484.jpg\r\n",
      "|-- cat.12485.jpg\r\n",
      "|-- cat.12486.jpg\r\n",
      "|-- cat.12487.jpg\r\n",
      "|-- dog.12496.jpg\r\n",
      "|-- dog.12497.jpg\r\n",
      "|-- dog.12498.jpg\r\n",
      "`-- dog.12499.jpg\r\n",
      "\r\n",
      "0 directories, 8 files\r\n"
     ]
    }
   ],
   "source": [
    "%env LS_COLORS = None \n",
    "!tree --charset ascii  /home/yu/Templates/AE-VAE-GAN/DataLoder/data/dogcat/"
   ]
  },
  {
   "cell_type": "markdown",
   "metadata": {},
   "source": [
    "__getitem__:返回一条数据或者一个样本\n",
    "__len__:返回样本的数量"
   ]
  },
  {
   "cell_type": "code",
   "execution_count": 20,
   "metadata": {},
   "outputs": [],
   "source": [
    "import os\n",
    "from PIL import Image\n",
    "import numpy as np\n",
    "import torch\n",
    "from torch.utils import data\n",
    "\n",
    "class DogCat(data.Dataset):\n",
    "    def __init__(self, root):\n",
    "        imgs = os.listdir(root)\n",
    "        self.imgs = [os.path.join(root, img) for img in imgs]\n",
    "    \n",
    "    def __getitem__(self, index):\n",
    "        img_path = self.imgs[index]\n",
    "        label = 1 if 'dog' in img_path.split('/')[-1] else 0\n",
    "        pil_img = Image.open(img_path)\n",
    "        array = np.asarray(pil_img)\n",
    "        data = torch.from_numpy(array)\n",
    "        return data, label\n",
    "    \n",
    "    def __len__(self):\n",
    "        return len(self.imgs)"
   ]
  },
  {
   "cell_type": "code",
   "execution_count": 21,
   "metadata": {},
   "outputs": [
    {
     "name": "stdout",
     "output_type": "stream",
     "text": [
      "torch.Size([236, 289, 3]) 130.30038805153168 0\n",
      "torch.Size([375, 499, 3]) 150.50795635715878 1\n",
      "torch.Size([375, 499, 3]) 116.81384992206635 1\n",
      "torch.Size([400, 300, 3]) 128.154975 1\n",
      "torch.Size([499, 379, 3]) 171.80847887507645 0\n",
      "torch.Size([377, 499, 3]) 151.7174171508357 1\n",
      "torch.Size([500, 497, 3]) 106.4915063715627 0\n",
      "torch.Size([374, 499, 3]) 115.51768778198108 0\n"
     ]
    }
   ],
   "source": [
    "dataset = DogCat('./data/dogcat/')\n",
    "img, label = dataset[0] #相当于调用__getitem__(0)\n",
    "for img, label in dataset:\n",
    "    print(img.size(), img.float().mean(), label)"
   ]
  },
  {
   "cell_type": "code",
   "execution_count": null,
   "metadata": {
    "collapsed": true
   },
   "outputs": [],
   "source": []
  }
 ],
 "metadata": {
  "kernelspec": {
   "display_name": "Python 3",
   "language": "python",
   "name": "python3"
  },
  "language_info": {
   "codemirror_mode": {
    "name": "ipython",
    "version": 3
   },
   "file_extension": ".py",
   "mimetype": "text/x-python",
   "name": "python",
   "nbconvert_exporter": "python",
   "pygments_lexer": "ipython3",
   "version": "3.6.4"
  }
 },
 "nbformat": 4,
 "nbformat_minor": 2
}
